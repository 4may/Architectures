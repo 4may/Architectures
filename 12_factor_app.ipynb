{
  "nbformat": 4,
  "nbformat_minor": 0,
  "metadata": {
    "colab": {
      "name": "12_factor_app.ipynb",
      "provenance": [],
      "collapsed_sections": [],
      "authorship_tag": "ABX9TyNGY0+SXQPzvIOoClLCcu5Z",
      "include_colab_link": true
    },
    "kernelspec": {
      "name": "python3",
      "display_name": "Python 3"
    }
  },
  "cells": [
    {
      "cell_type": "markdown",
      "metadata": {
        "id": "view-in-github",
        "colab_type": "text"
      },
      "source": [
        "<a href=\"https://colab.research.google.com/github/4may/Architectures/blob/master/12_factor_app.ipynb\" target=\"_parent\"><img src=\"https://colab.research.google.com/assets/colab-badge.svg\" alt=\"Open In Colab\"/></a>"
      ]
    },
    {
      "cell_type": "markdown",
      "metadata": {
        "id": "2fM_B3cwh-L_",
        "colab_type": "text"
      },
      "source": [
        "# 12 factor app\n",
        "\n",
        "[slide shareの資料](https://www.slideshare.net/masatoshitada7/twelvefactor-app)に分かりやすそうなのがあったので参考にする。\n",
        "\n",
        "[Javaでやってみる The Twelve Factor App JJUG-CCC 2014 Fall 講演資料](https://www.slideshare.net/nabedge/java-the-twelve-factor-app)も分かりやすそう。"
      ]
    },
    {
      "cell_type": "markdown",
      "metadata": {
        "id": "veNcH1rnoU4p",
        "colab_type": "text"
      },
      "source": [
        "## 12 factor appとは\n",
        "\n",
        "クラウドアプリケーションが従うべき12個のベストプラクティスをまとめたもの。\n",
        "\n",
        "* https://12factor.net/\n",
        "* herokuが提唱\n",
        "* プログラミング言語問わず\n",
        "* [Patterns of Enterprise Application Architecture](https://books.google.co.jp/books/about/Patterns_of_enterprise_application_archi.html?id=FyWZt5DdvFkC&redir_esc=y)にインスパイア\n",
        "  * 2003年！！\n",
        "* 12個のアイディアは、大きく３つのグループに分けられる\n",
        "  * portability\n",
        "  * scaling\n",
        "  * operation"
      ]
    },
    {
      "cell_type": "markdown",
      "metadata": {
        "id": "2PfPmCNsoSu5",
        "colab_type": "text"
      },
      "source": [
        "## 原則\n",
        "\n",
        "* 環境構築手順は**自動化**する。また、専用のフォーマットを使う。\n",
        "* OSへの依存関係を明確にする。\n",
        "* 計算機リソース(サーバー)管理は不要とする\n",
        "* 開発環境と本番環境の差異は最小限にする\n",
        "* **ビルドは一度だけ**にする。開発/テスト/本番環境のそれぞれで同じバイナリを使う"
      ]
    },
    {
      "cell_type": "markdown",
      "metadata": {
        "id": "X2hULbHZoOmt",
        "colab_type": "text"
      },
      "source": [
        "## Portability"
      ]
    },
    {
      "cell_type": "markdown",
      "metadata": {
        "id": "YGLzhFDNoMfA",
        "colab_type": "text"
      },
      "source": [
        "### なぜ重要か\n",
        "\n",
        "バイナリが、多様な環境下で動作するため。\n",
        "\n",
        "例)\n",
        "\n",
        "* 開発環境：ローカルPC\n",
        "* テスト環境：オンプレミスのjenkins\n",
        "* 本番環境:クラウド"
      ]
    },
    {
      "cell_type": "markdown",
      "metadata": {
        "id": "JhDOpAYIoJu9",
        "colab_type": "text"
      },
      "source": [
        "### Portabilityに関するFactor\n",
        "\n",
        "* Ⅲ. 設定 「設定は、環境変数に保存する」\n",
        "* Ⅳ. バックエンドサービス 「バックエンドサービスはアタッチされたリソースとして扱う」\n",
        "* Ⅶ. ポートバインディング 「ポートバインディングを通してサービスを公開する」"
      ]
    },
    {
      "cell_type": "markdown",
      "metadata": {
        "id": "8kGHe6wxod6n",
        "colab_type": "text"
      },
      "source": [
        "#### Ⅲ. 設定\n",
        "\n",
        "* OSが違っても、環境変数の値を取得する方法は一緒\n",
        "* 外部リソース(設定ファイルやDB)に保存しない。\n",
        "  * バイナリに設定ファイルを含めてしまうと、環境ごとにビルドが必要\n",
        "  * バイナリ外に設定ファイルを置くと、環境ごとにパスが異なる\n",
        "  * DBに設定値を保存すると、DB接続が必要\n",
        "  * 情報漏洩のリスク"
      ]
    },
    {
      "cell_type": "markdown",
      "metadata": {
        "id": "x-PdWJqzob8Q",
        "colab_type": "text"
      },
      "source": [
        "#### Ⅳ. バックエンドサービス\n",
        "\n",
        "* 「アタッチされたリソース」、とは「簡単に交換可能なリソース」を指す\n",
        "* 簡単に交換可能なリソースとは？\n",
        "  * ローカルPCのサービスへの接続とクラウドサービスへの接続を同じコードで行う\n",
        "    * バイナリのリビルドしたくない\n",
        "  * バックエンドサービスは代わりが効くようにする。"
      ]
    },
    {
      "cell_type": "markdown",
      "metadata": {
        "id": "8frPIFHjom8X",
        "colab_type": "text"
      },
      "source": [
        "#### Ⅶ. ポートバインディング\n",
        "\n",
        "* アプリケーション内に組込サーバーを持つべし\n",
        "  * サーバーなしで実行できる"
      ]
    },
    {
      "cell_type": "markdown",
      "metadata": {
        "id": "dv9pFIkao35_",
        "colab_type": "text"
      },
      "source": [
        "## Scalability"
      ]
    },
    {
      "cell_type": "markdown",
      "metadata": {
        "id": "DFwleyCwo-JT",
        "colab_type": "text"
      },
      "source": [
        "### Scale時の注意点\n",
        "\n",
        "仮想マシン/コンテナは増減を繰り返す。**アプリが動く環境は短命。**"
      ]
    },
    {
      "cell_type": "markdown",
      "metadata": {
        "id": "1jZseZ5jpc2K",
        "colab_type": "text"
      },
      "source": [
        "### Scalabilityに関するFactor\n",
        "\n",
        "* Ⅷ. 並行性　「プロセスモデルによってスケールアウトする」\n",
        "* Ⅵ. プロセス 「アプリケーションを１つ、ないしは複数のstatelessなプロセスとして実行する」\n",
        "* Ⅺ. ログ　「ログをイベントストリームとして扱う」\n",
        "* Ⅸ. 廃棄容易性　「高速な起動とgraceful shutdown」"
      ]
    },
    {
      "cell_type": "markdown",
      "metadata": {
        "id": "YGoXrSVnqTLF",
        "colab_type": "text"
      },
      "source": [
        "#### Ⅷ.並行性\n",
        "\n",
        "* 垂直スケールではなく、水平スケールで対応しよう\n",
        "  * 垂直スケール：メモリ増やす、CPU強くする -> 環境の再起動が必要 -> 繋がらなくなる時間が発生\n",
        "  * 水平スケール：インスタンスの数を増やす。 -> 繋がらなくなる時間は発生しない"
      ]
    },
    {
      "cell_type": "markdown",
      "metadata": {
        "id": "va2Bdlhxq7oq",
        "colab_type": "text"
      },
      "source": [
        "#### Ⅵ. プロセス\n",
        "\n",
        "* stateless : セッション、ローカルファイルは使わないようにする\n",
        "  * 複数インスタンス\n",
        "  * 仮想マシンがなくなる可能性"
      ]
    },
    {
      "cell_type": "markdown",
      "metadata": {
        "id": "po700ipRrRPk",
        "colab_type": "text"
      },
      "source": [
        "#### Ⅺ. ログ\n",
        "\n",
        "* ログは標準出力に出す！\n",
        "  * 仮想マシンはなくなる可能性がある -> ローカルファイルに出力すると、ログが消える可能性あり\n",
        "  * windows/mac/linus, IDE/CLI, local/cloud問わず、動く\n",
        "* ログは一箇所にまとめて出力する\n",
        "  * [splunk](https://www.splunk.com/ja_jp)\n",
        "  * [ELK stack](https://www.elastic.co/jp/what-is/elk-stack) : elasticsearch, logstash, kibanaの３つのサービスを組み合わせたログ解析環境"
      ]
    },
    {
      "cell_type": "markdown",
      "metadata": {
        "id": "uL15-63aso7s",
        "colab_type": "text"
      },
      "source": [
        "#### 廃棄容易性\n",
        "\n",
        "* インスタンスの起動と停止はとにかく高速化する。スケールしやすくなる。\n",
        "* graceful : 停止前の後始末を行うこと\n",
        "  * 受信中リクエストの処理\n",
        "  * リソース(DB接続など)の破棄"
      ]
    },
    {
      "cell_type": "markdown",
      "metadata": {
        "id": "Y2jjueyntQU4",
        "colab_type": "text"
      },
      "source": [
        "## Operation"
      ]
    },
    {
      "cell_type": "markdown",
      "metadata": {
        "id": "zijPg1LMtU07",
        "colab_type": "text"
      },
      "source": [
        "### Operationミスの原因は？\n",
        "\n",
        "* 手作業\n",
        "* 環境による違い\n",
        "\n",
        "**自動化 + 全環境で同一手順**を目指そう"
      ]
    },
    {
      "cell_type": "markdown",
      "metadata": {
        "id": "sZpvmzC3ucuV",
        "colab_type": "text"
      },
      "source": [
        "### Operationミス防止に関するFactor\n",
        "\n",
        "* X. 開発/本番一致　「開発/ステージング/本番環境をできるだけ一致させた状態を保つ」\n",
        "* V. ビルド、リリース、実行　「ビルド、リリース、実行の３つのステージを厳密に分ける」\n",
        "* Ⅻ. 管理プロセス　「管理タスクを1回限りのプロセスとして実行する」\n",
        "* Ⅱ. 依存関係　「依存関係を明示的に宣言して、分離する」\n",
        "* Ⅰ. コードベース　「バージョン管理されている１つのコードベースと複数のデプロイ」"
      ]
    },
    {
      "cell_type": "markdown",
      "metadata": {
        "id": "lAPlpwYqvVcv",
        "colab_type": "text"
      },
      "source": [
        "#### Ⅹ. 開発/本番一致\n",
        "\n",
        "* ギャップをなくす\n",
        " * 時間のギャップ：開発からデプロイまでの時間は**数時間以内**にする\n",
        " * 人材のギャップ：**開発者が運用もする**\n",
        " * フレームワークのギャップ：同じフレームワークを使う\n",
        "  * 本番環境はOracle, 開発環境はPostgreSQLなどはNG"
      ]
    },
    {
      "cell_type": "markdown",
      "metadata": {
        "id": "Vi0cT725wxAm",
        "colab_type": "text"
      },
      "source": [
        "#### Ⅴ. ビルド、リリーズ、実行\n",
        "\n",
        "* 本番環境で動いているコードを直にいじらない\n",
        "  * テストできないので事故る\n",
        "* 環境ごとにビルドし直さない\n",
        "  * ポータブルでない\n",
        "* 実行のたびにリリースを作り直さない"
      ]
    },
    {
      "cell_type": "markdown",
      "metadata": {
        "id": "cEnkbPR3xcbq",
        "colab_type": "text"
      },
      "source": [
        "#### Ⅻ. 管理プロセス\n",
        "\n",
        "* 管理プロセス(DBマイグレーションなど)は、**アプリの初期化処理**として行う\n",
        "  * 起動時に自動で行われるようにする\n",
        "* コマンド手打ちは極力しない"
      ]
    },
    {
      "cell_type": "markdown",
      "metadata": {
        "id": "AJI3kYUwxy1n",
        "colab_type": "text"
      },
      "source": [
        "## Ⅱ. 依存関係\n",
        "\n",
        "* アプリだけで全てを完結させる. アプリ外にあるライブラリやツールをあてにしない\n",
        "  * アプリ外にあるリソースは常にあるとは限らない\n",
        "  * ライブラリは、アプリの依存設定ファイルに列挙する\n",
        "  * ツールは、アプリの中に含める"
      ]
    },
    {
      "cell_type": "markdown",
      "metadata": {
        "id": "592BGxPyyM8m",
        "colab_type": "text"
      },
      "source": [
        "#### Ⅰ. コードベース\n",
        "\n",
        "* 1アプリに1リポジトリとする\n",
        "* １つのアプリを複数のリポジトリで管理しない\n",
        "  * ビルドプロセスの明確化\n",
        "* 1つのリポジトリに複数のアプリを置かない\n",
        "  * 複数のアプリで共有する処理の密結合\n",
        "* 複数環境は、一つのリポジトリで管理する"
      ]
    }
  ]
}